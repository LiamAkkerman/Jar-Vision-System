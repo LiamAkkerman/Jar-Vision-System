{
 "metadata": {
  "language_info": {
   "codemirror_mode": {
    "name": "ipython",
    "version": 3
   },
   "file_extension": ".py",
   "mimetype": "text/x-python",
   "name": "python",
   "nbconvert_exporter": "python",
   "pygments_lexer": "ipython3",
   "version": "3.7.9"
  },
  "orig_nbformat": 2,
  "kernelspec": {
   "name": "python3",
   "display_name": "Python 3",
   "language": "python"
  }
 },
 "nbformat": 4,
 "nbformat_minor": 2,
 "cells": [
  {
   "source": [
    "# Jar Targetting System\n",
    "## Training Program\n",
    "Liam Akkerman, Aidan Hunter"
   ],
   "cell_type": "markdown",
   "metadata": {}
  },
  {
   "cell_type": "code",
   "execution_count": null,
   "metadata": {},
   "outputs": [],
   "source": [
    "# load libraries\n",
    "\n",
    "import matplotlib.pyplot as plt\n",
    "\n",
    "import tensorflow as tf\n",
    "from tensorflow import keras"
   ]
  },
  {
   "cell_type": "code",
   "execution_count": null,
   "metadata": {},
   "outputs": [],
   "source": [
    "# TODO load the dataset\n",
    "\n",
    "train_images = \n",
    "train_labels = \n",
    "\n",
    "test_images = \n",
    "test_labels = "
   ]
  },
  {
   "cell_type": "code",
   "execution_count": null,
   "metadata": {},
   "outputs": [],
   "source": [
    "# TODO visualize samples"
   ]
  },
  {
   "cell_type": "code",
   "execution_count": null,
   "metadata": {},
   "outputs": [],
   "source": [
    "# define the model layers\n",
    "# TODO currently this is just the 4th CNN from assigment 3\n",
    "\n",
    "model = keras.Sequential([\n",
    "    keras.layers.Input(shape=(300, 300, 1)),\n",
    "    keras.layers.AveragePooling2D(pool_size=6, strides=3),\n",
    "    keras.layers.Conv2D(filters=1, kernel_size=3, activation='relu'),\n",
    "    keras.layers.Conv2D(filters=1, kernel_size=3, activation='relu'),\n",
    "    keras.layers.MaxPooling2D(pool_size=(2, 2)),\n",
    "    keras.layers.Dropout(rate=0.4),\n",
    "    keras.layers.Flatten(),\n",
    "    keras.layers.Dense(units=8, activation='softmax')\n",
    "])"
   ]
  },
  {
   "cell_type": "code",
   "execution_count": null,
   "metadata": {},
   "outputs": [],
   "source": [
    "# train and evalute the model\n",
    "\n",
    "model.compile(optimizer='adam',\n",
    "            loss='sparse_categorical_crossentropy',\n",
    "            metrics=['accuracy'])\n",
    "\n",
    "hist = model.fit(x=train_images, y=train_labels, epochs=10)\n",
    "loss, acc = model.evaluate(test_images, test_labels)\n",
    "\n",
    "print('test accuracy:', acc)\n",
    "print('test loss:', loss)"
   ]
  },
  {
   "cell_type": "code",
   "execution_count": 4,
   "metadata": {},
   "outputs": [
    {
     "output_type": "stream",
     "name": "stdout",
     "text": [
      "model-202103201625\n"
     ]
    }
   ],
   "source": [
    "# save model\n",
    "\n",
    "from datetime import datetime\n",
    "\n",
    "# format is YYYYMMDDHHmm\n",
    "filename = 'model-' + datetime.now().strftime('%Y%m%d%H%M')\n",
    "\n",
    "model.save(filename)"
   ]
  },
  {
   "cell_type": "code",
   "execution_count": null,
   "metadata": {},
   "outputs": [],
   "source": []
  }
 ]
}