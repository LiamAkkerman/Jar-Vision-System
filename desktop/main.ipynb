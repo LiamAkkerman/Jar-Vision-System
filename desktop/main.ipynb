{
 "metadata": {
  "language_info": {
   "codemirror_mode": {
    "name": "ipython",
    "version": 3
   },
   "file_extension": ".py",
   "mimetype": "text/x-python",
   "name": "python",
   "nbconvert_exporter": "python",
   "pygments_lexer": "ipython3",
   "version": 3
  },
  "orig_nbformat": 2
 },
 "nbformat": 4,
 "nbformat_minor": 2,
 "cells": [
  {
   "source": [
    "# Jar Targetting System\n",
    "## Training Program\n",
    "Liam Akkerman, Aidan Hunter"
   ],
   "cell_type": "markdown",
   "metadata": {}
  },
  {
   "cell_type": "code",
   "execution_count": null,
   "metadata": {},
   "outputs": [],
   "source": [
    "# load libraries\n",
    "\n",
    "import matplotlib.pyplot as plt\n",
    "\n",
    "import tensorflow as tf\n",
    "from tensorflow import keras"
   ]
  },
  {
   "cell_type": "code",
   "execution_count": null,
   "metadata": {},
   "outputs": [],
   "source": [
    "# TODO load the dataset"
   ]
  },
  {
   "cell_type": "code",
   "execution_count": null,
   "metadata": {},
   "outputs": [],
   "source": [
    "# TODO visualize samples"
   ]
  },
  {
   "cell_type": "code",
   "execution_count": null,
   "metadata": {},
   "outputs": [],
   "source": [
    "# define the model layers\n",
    "# TODO currently this is just the 4th CNN from assigment 3\n",
    "\n",
    "model = keras.Sequential([\n",
    "    keras.layers.Input(shape=(300, 300, 1)),\n",
    "    keras.layers.AveragePooling2D(pool_size=6, strides=3),\n",
    "    keras.layers.Conv2D(filters=1, kernel_size=3, activation='relu'),\n",
    "    keras.layers.Conv2D(filters=1, kernel_size=3, activation='relu'),\n",
    "    keras.layers.MaxPooling2D(pool_size=(2, 2)),\n",
    "    keras.layers.Dropout(rate=0.4),\n",
    "    keras.layers.Flatten(),\n",
    "    keras.layers.Dense(units=8, activation='softmax')\n",
    "])"
   ]
  },
  {
   "cell_type": "code",
   "execution_count": null,
   "metadata": {},
   "outputs": [],
   "source": [
    "# train and evalute the model\n",
    "\n",
    "model.compile(optimizer='adam',\n",
    "            loss='sparse_categorical_crossentropy',\n",
    "            metrics=['accuracy'])\n",
    "\n",
    "hist = model.fit(x=train_images, y=train_labels, epochs=10)\n",
    "loss, acc = model.evaluate(test_images, test_labels)\n",
    "\n",
    "print('test accuracy:', acc)\n",
    "print('test loss:', loss)"
   ]
  }
 ]
}